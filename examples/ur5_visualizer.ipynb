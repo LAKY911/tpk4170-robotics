{
 "cells": [
  {
   "cell_type": "code",
   "execution_count": 78,
   "metadata": {},
   "outputs": [],
   "source": [
    "import tpk4170\n",
    "import modern_robotics as mr"
   ]
  },
  {
   "cell_type": "code",
   "execution_count": 79,
   "metadata": {},
   "outputs": [],
   "source": [
    "from tpk4170.visualization import Ur5Visualizer\n",
    "import numpy as np"
   ]
  },
  {
   "cell_type": "code",
   "execution_count": 109,
   "metadata": {},
   "outputs": [
    {
     "data": {
      "application/vnd.jupyter.widget-view+json": {
       "model_id": "408bd542de5e47b590c11ef29f4e229c",
       "version_major": 2,
       "version_minor": 0
      },
      "text/plain": [
       "Renderer(camera=PerspectiveCamera(aspect=1.5, children=(DirectionalLight(color='white', intensity=0.66, positi…"
      ]
     },
     "metadata": {},
     "output_type": "display_data"
    }
   ],
   "source": [
    "UR5 = Ur5Visualizer()"
   ]
  },
  {
   "cell_type": "code",
   "execution_count": 122,
   "id": "cb6345c0",
   "metadata": {},
   "outputs": [],
   "source": [
    "L1 = 0.425\n",
    "L2 = 0.392\n",
    "W1 = 0.109\n",
    "W2 = 0.082\n",
    "H1 = 0.089\n",
    "H2 = 0.095\n",
    "\n",
    "Slist = np.array([  [0, 0,  1, 0, 0, 0],\n",
    "                    [0, 1,  0, -H1, 0, 0],\n",
    "                    [0, 1,  0, -H1, 0, L1],\n",
    "                    [0, 1,  0, -H1, 0, L1+L2],\n",
    "                    [0, 0, -1, -W1, L1+L2, 0],\n",
    "                    [0, 1, 0, H2-H1, 0, L1+L2]]).T\n",
    "M = np.array([  [-1, 0,  0, L1+L2],\n",
    "                [ 0, 0,  1, W1+W2],\n",
    "                [ 0, 1,  0, H1-H2],\n",
    "                [ 0, 0,  0,     1]])\n",
    "\n",
    "eomg = 0.01\n",
    "ev = 0.001"
   ]
  },
  {
   "cell_type": "code",
   "execution_count": 123,
   "id": "85d83738",
   "metadata": {},
   "outputs": [],
   "source": [
    "x_coord = 0.4\n",
    "y_coord = 0.0\n",
    "z_coord = 0.6\n",
    "\n",
    "T = np.array([  [1,  0,  0, x_coord],\n",
    "                [0,  0,  1, y_coord],\n",
    "                [0, -1,  0, z_coord],\n",
    "                [0,  0,  0,      1]])\n",
    "#thetalist0 = np.array([1.5, 2.5, 3, 0, 0, 0])\n",
    "thetalist0 = UR5.theta"
   ]
  },
  {
   "cell_type": "code",
   "execution_count": 124,
   "id": "d5babc00",
   "metadata": {},
   "outputs": [
    {
     "name": "stdout",
     "output_type": "stream",
     "text": [
      "True\n"
     ]
    }
   ],
   "source": [
    "(thetalist, success) = mr.IKinSpace(Slist, M, T, thetalist0, eomg, ev)\n",
    "print(success)\n",
    "thetalist = thetalist % (2*np.pi)\n"
   ]
  },
  {
   "cell_type": "code",
   "execution_count": 125,
   "metadata": {},
   "outputs": [],
   "source": [
    "if(success):\n",
    "    UR5.theta = thetalist\n",
    "#UR5.interact()\n",
    "#UR5.theta = np.array([0, 0, 0, 0, 0, 0])\n"
   ]
  },
  {
   "cell_type": "code",
   "execution_count": 126,
   "id": "1c1e0a16",
   "metadata": {},
   "outputs": [
    {
     "name": "stdout",
     "output_type": "stream",
     "text": [
      "[332.92229894 329.64429765 304.19983873  86.04274162 332.94494545\n",
      " 180.12470591]\n"
     ]
    },
    {
     "data": {
      "text/plain": [
       "array([5.81059027, 5.75337835, 5.30928877, 1.50172914, 5.81098553,\n",
       "       3.14376918])"
      ]
     },
     "execution_count": 126,
     "metadata": {},
     "output_type": "execute_result"
    }
   ],
   "source": [
    "import numpy as np\n",
    "\n",
    "thetalist_degrees = np.degrees(thetalist) % 360\n",
    "print(thetalist_degrees)\n",
    "UR5.theta\n"
   ]
  }
 ],
 "metadata": {
  "interpreter": {
   "hash": "343462238b39e817d7ecda39097440576ae601cb1be177cb5dba6664649d084e"
  },
  "kernelspec": {
   "display_name": "Python 3.8.12 64-bit ('tpk4170-fall2021': conda)",
   "name": "python3"
  },
  "language_info": {
   "codemirror_mode": {
    "name": "ipython",
    "version": 3
   },
   "file_extension": ".py",
   "mimetype": "text/x-python",
   "name": "python",
   "nbconvert_exporter": "python",
   "pygments_lexer": "ipython3",
   "version": "3.10.7"
  }
 },
 "nbformat": 4,
 "nbformat_minor": 5
}
